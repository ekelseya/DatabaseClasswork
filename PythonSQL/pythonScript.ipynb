{
 "cells": [
  {
   "cell_type": "code",
   "execution_count": 13,
   "metadata": {
    "scrolled": false
   },
   "outputs": [],
   "source": [
    "import json\n",
    "\n",
    "fin = open('nodes.json', 'rt', encoding = 'utf-8-sig')\n",
    "data = json.load(fin)\n",
    "fin.close()\n"
   ]
  },
  {
   "cell_type": "code",
   "execution_count": 14,
   "metadata": {},
   "outputs": [],
   "source": [
    "\n",
    "communities = {}\n",
    "\n",
    "for d in data:\n",
    "    if d['community'] not in communities:\n",
    "        communities[d['community']] = 1\n",
    "    else:\n",
    "        communities[d['community']] += 1\n",
    "# print(communities)\n"
   ]
  },
  {
   "cell_type": "code",
   "execution_count": 12,
   "metadata": {},
   "outputs": [],
   "source": [
    "fout = open('labeling.cypher', 'wt')\n",
    "\n",
    "for d in data:\n",
    "    nodeId = d['id']\n",
    "    community = d['community']\n",
    "    fout.write(\"MATCH ( node { code: '\" + str(nodeId) + \"' } )\")\n",
    "\n",
    "    if communities[community] >= 10:\n",
    "        fout.write(\"SET node:c\" + str(community) + \"\\n\")\n",
    "\n",
    "    else:\n",
    "        fout.write(\"DETACH DELETE node\\n\")\n",
    "\n",
    "    fout.write(\"WITH 1 as dummy\\n\")\n",
    "\n",
    "fout.write(\"MATCH(n) RETURN(n)\")\n",
    "\n",
    "fout.close()"
   ]
  }
 ],
 "metadata": {
  "kernelspec": {
   "display_name": "Python 3",
   "language": "python",
   "name": "python3"
  },
  "language_info": {
   "codemirror_mode": {
    "name": "ipython",
    "version": 3
   },
   "file_extension": ".py",
   "mimetype": "text/x-python",
   "name": "python",
   "nbconvert_exporter": "python",
   "pygments_lexer": "ipython3",
   "version": "3.6.5"
  }
 },
 "nbformat": 4,
 "nbformat_minor": 2
}
